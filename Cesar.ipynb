{
 "cells": [
  {
   "cell_type": "markdown",
   "id": "2c784a2d",
   "metadata": {},
   "source": [
    "Condiciones:\n",
    "- Sólo cifra minúsculas\n",
    "- No se considera la letra ñ\n",
    "- No se cifran los carácteres especiales ni números (,.-{´+-/*)"
   ]
  },
  {
   "cell_type": "code",
   "execution_count": 93,
   "id": "f8dbe31a",
   "metadata": {},
   "outputs": [],
   "source": [
    "import string"
   ]
  },
  {
   "cell_type": "code",
   "execution_count": 94,
   "id": "78650688",
   "metadata": {},
   "outputs": [
    {
     "name": "stdout",
     "output_type": "stream",
     "text": [
      "a\n",
      "26\n"
     ]
    }
   ],
   "source": [
    "alfabeto = list(string.ascii_lowercase)\n",
    "longitud_alfabeto = len(alfabeto);\n",
    "\n",
    "print(alfabeto[0])\n",
    "print(longitud_alfabeto)"
   ]
  },
  {
   "cell_type": "code",
   "execution_count": 95,
   "id": "d4040f4c",
   "metadata": {},
   "outputs": [],
   "source": [
    "def cifrado_cesar(alfabeto,n,texto):\n",
    "    texto_cifrado=\"\"\n",
    "    for letra in texto:\n",
    "        if letra in alfabeto:\n",
    "            indice_actual = alfabeto.index(letra)\n",
    "            indice_cesar = indice_actual + n\n",
    "            \n",
    "            if indice_cesar >= longitud_alfabeto:\n",
    "                indice_cesar -= longitud_alfabeto \n",
    "                \n",
    "            texto_cifrado += alfabeto[indice_cesar]\n",
    "        else:\n",
    "            texto_cifrado+=letra\n",
    "    return texto_cifrado        "
   ]
  },
  {
   "cell_type": "code",
   "execution_count": 96,
   "id": "3e32791b",
   "metadata": {},
   "outputs": [
    {
     "name": "stdout",
     "output_type": "stream",
     "text": [
      "travhf jvgubhg rqhpngvba vf yvxr fvyire va gur zvar\n"
     ]
    }
   ],
   "source": [
    "texto_ejemplo = \"genius without education is like silver in the mine\"\n",
    "texto_cifrado = cifrado_cesar(alfabeto,13,texto_ejemplo)\n",
    "\n",
    "print(texto_cifrado)"
   ]
  },
  {
   "cell_type": "code",
   "execution_count": 97,
   "id": "e079dd12",
   "metadata": {},
   "outputs": [],
   "source": [
    "def decodificar_cesar (alfabeto,n,texto):\n",
    "    texto_decodificado = \"\"\n",
    "    for letra in texto:\n",
    "        if letra in alfabeto:\n",
    "            indice_cesar = alfabeto.index(letra)\n",
    "            indice_original = indice_cesar - n\n",
    "            \n",
    "            if indice_original < 0:\n",
    "                indice_original += longitud_alfabeto\n",
    "                \n",
    "            texto_decodificado += alfabeto[indice_original]\n",
    "        else:\n",
    "            texto_decodificado += letra\n",
    "    return texto_decodificado"
   ]
  },
  {
   "cell_type": "code",
   "execution_count": 98,
   "id": "c4fc6f48",
   "metadata": {},
   "outputs": [
    {
     "name": "stdout",
     "output_type": "stream",
     "text": [
      "genius without education is like silver in the mine\n"
     ]
    }
   ],
   "source": [
    "texto_decodificado = decodificar_cesar(alfabeto,13,texto_cifrado)\n",
    "\n",
    "print(texto_decodificado)"
   ]
  },
  {
   "cell_type": "code",
   "execution_count": null,
   "id": "e43752c9",
   "metadata": {},
   "outputs": [],
   "source": []
  }
 ],
 "metadata": {
  "kernelspec": {
   "display_name": "Python 3 (ipykernel)",
   "language": "python",
   "name": "python3"
  },
  "language_info": {
   "codemirror_mode": {
    "name": "ipython",
    "version": 3
   },
   "file_extension": ".py",
   "mimetype": "text/x-python",
   "name": "python",
   "nbconvert_exporter": "python",
   "pygments_lexer": "ipython3",
   "version": "3.9.7"
  }
 },
 "nbformat": 4,
 "nbformat_minor": 5
}
